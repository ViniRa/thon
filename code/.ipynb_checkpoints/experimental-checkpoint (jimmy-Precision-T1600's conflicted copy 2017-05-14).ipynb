{
 "cells": [
  {
   "cell_type": "code",
   "execution_count": 1,
   "metadata": {},
   "outputs": [],
   "source": [
    "%matplotlib inline"
   ]
  },
  {
   "cell_type": "markdown",
   "metadata": {},
   "source": [
    "# Experimental Model Building"
   ]
  },
  {
   "cell_type": "markdown",
   "metadata": {},
   "source": [
    "Code for building the models  \n",
    "_Author: Jimmy Charité_  \n",
    "_Email: jimmy.charite@gmail.com_  "
   ]
  },
  {
   "cell_type": "markdown",
   "metadata": {},
   "source": [
    "Experimenting with tensorflow"
   ]
  },
  {
   "cell_type": "code",
   "execution_count": 2,
   "metadata": {
    "collapsed": true
   },
   "outputs": [],
   "source": [
    "import os\n",
    "import pandas as pd\n",
    "import numpy as np\n",
    "import scipy as sp\n",
    "import seaborn as sns\n",
    "import matplotlib.pyplot as plt\n",
    "import json\n",
    "from IPython.display import Image\n",
    "from IPython.core.display import HTML\n",
    "import tensorflow as tf"
   ]
  },
  {
   "cell_type": "code",
   "execution_count": 3,
   "metadata": {
    "collapsed": true
   },
   "outputs": [],
   "source": [
    "retval=os.chdir(\"..\")"
   ]
  },
  {
   "cell_type": "code",
   "execution_count": 4,
   "metadata": {
    "collapsed": true
   },
   "outputs": [],
   "source": [
    "clean_data=pd.read_pickle('./clean_data/clean_data.pkl')"
   ]
  },
  {
   "cell_type": "code",
   "execution_count": 5,
   "metadata": {},
   "outputs": [
    {
     "data": {
      "text/html": [
       "<div>\n",
       "<style>\n",
       "    .dataframe thead tr:only-child th {\n",
       "        text-align: right;\n",
       "    }\n",
       "\n",
       "    .dataframe thead th {\n",
       "        text-align: left;\n",
       "    }\n",
       "\n",
       "    .dataframe tbody tr th {\n",
       "        vertical-align: top;\n",
       "    }\n",
       "</style>\n",
       "<table border=\"1\" class=\"dataframe\">\n",
       "  <thead>\n",
       "    <tr style=\"text-align: right;\">\n",
       "      <th></th>\n",
       "      <th>helpful</th>\n",
       "      <th>num_sents</th>\n",
       "      <th>num_words</th>\n",
       "      <th>readability</th>\n",
       "      <th>neg_senti</th>\n",
       "      <th>pos_senti</th>\n",
       "      <th>neu_senti</th>\n",
       "      <th>comp_senti</th>\n",
       "      <th>text_lemma</th>\n",
       "      <th>vec0</th>\n",
       "      <th>...</th>\n",
       "      <th>vec290</th>\n",
       "      <th>vec291</th>\n",
       "      <th>vec292</th>\n",
       "      <th>vec293</th>\n",
       "      <th>vec294</th>\n",
       "      <th>vec295</th>\n",
       "      <th>vec296</th>\n",
       "      <th>vec297</th>\n",
       "      <th>vec298</th>\n",
       "      <th>vec299</th>\n",
       "    </tr>\n",
       "  </thead>\n",
       "  <tbody>\n",
       "    <tr>\n",
       "      <th>0</th>\n",
       "      <td>0.0</td>\n",
       "      <td>0.693147</td>\n",
       "      <td>3.610918</td>\n",
       "      <td>6.742881</td>\n",
       "      <td>0.079</td>\n",
       "      <td>0.068</td>\n",
       "      <td>0.853</td>\n",
       "      <td>-0.1027</td>\n",
       "      <td>product arrive label peanut actually small siz...</td>\n",
       "      <td>0.033346</td>\n",
       "      <td>...</td>\n",
       "      <td>-0.023125</td>\n",
       "      <td>-0.005069</td>\n",
       "      <td>0.007344</td>\n",
       "      <td>-0.045929</td>\n",
       "      <td>-0.017832</td>\n",
       "      <td>-0.018206</td>\n",
       "      <td>-0.017281</td>\n",
       "      <td>0.012410</td>\n",
       "      <td>0.020198</td>\n",
       "      <td>-0.002511</td>\n",
       "    </tr>\n",
       "    <tr>\n",
       "      <th>1</th>\n",
       "      <td>0.0</td>\n",
       "      <td>1.386294</td>\n",
       "      <td>3.555348</td>\n",
       "      <td>6.734948</td>\n",
       "      <td>0.000</td>\n",
       "      <td>0.448</td>\n",
       "      <td>0.552</td>\n",
       "      <td>0.9468</td>\n",
       "      <td>great taffy great price wide assortment yummy ...</td>\n",
       "      <td>0.037825</td>\n",
       "      <td>...</td>\n",
       "      <td>-0.015524</td>\n",
       "      <td>0.009058</td>\n",
       "      <td>0.020853</td>\n",
       "      <td>-0.058746</td>\n",
       "      <td>-0.001076</td>\n",
       "      <td>-0.013715</td>\n",
       "      <td>-0.035464</td>\n",
       "      <td>0.006317</td>\n",
       "      <td>0.023066</td>\n",
       "      <td>0.012566</td>\n",
       "    </tr>\n",
       "    <tr>\n",
       "      <th>2</th>\n",
       "      <td>0.0</td>\n",
       "      <td>1.609438</td>\n",
       "      <td>4.499810</td>\n",
       "      <td>6.743588</td>\n",
       "      <td>0.029</td>\n",
       "      <td>0.163</td>\n",
       "      <td>0.809</td>\n",
       "      <td>0.8830</td>\n",
       "      <td>get wild hair taffy order pound bag taffy enjo...</td>\n",
       "      <td>0.039023</td>\n",
       "      <td>...</td>\n",
       "      <td>-0.011637</td>\n",
       "      <td>0.008717</td>\n",
       "      <td>0.007918</td>\n",
       "      <td>-0.046595</td>\n",
       "      <td>-0.012542</td>\n",
       "      <td>-0.028316</td>\n",
       "      <td>-0.036677</td>\n",
       "      <td>0.015261</td>\n",
       "      <td>0.016227</td>\n",
       "      <td>0.008930</td>\n",
       "    </tr>\n",
       "    <tr>\n",
       "      <th>3</th>\n",
       "      <td>0.0</td>\n",
       "      <td>1.609438</td>\n",
       "      <td>4.143135</td>\n",
       "      <td>6.742527</td>\n",
       "      <td>0.034</td>\n",
       "      <td>0.273</td>\n",
       "      <td>0.693</td>\n",
       "      <td>0.9346</td>\n",
       "      <td>saltwater taffy great flavor soft chewy candy ...</td>\n",
       "      <td>0.038912</td>\n",
       "      <td>...</td>\n",
       "      <td>-0.010440</td>\n",
       "      <td>0.006156</td>\n",
       "      <td>0.007695</td>\n",
       "      <td>-0.039642</td>\n",
       "      <td>-0.012080</td>\n",
       "      <td>-0.026868</td>\n",
       "      <td>-0.018743</td>\n",
       "      <td>0.009134</td>\n",
       "      <td>0.021543</td>\n",
       "      <td>0.016047</td>\n",
       "    </tr>\n",
       "    <tr>\n",
       "      <th>4</th>\n",
       "      <td>0.0</td>\n",
       "      <td>1.609438</td>\n",
       "      <td>3.526361</td>\n",
       "      <td>6.737915</td>\n",
       "      <td>0.000</td>\n",
       "      <td>0.480</td>\n",
       "      <td>0.520</td>\n",
       "      <td>0.9487</td>\n",
       "      <td>taffy good soft chewy flavor amazing definitel...</td>\n",
       "      <td>0.043776</td>\n",
       "      <td>...</td>\n",
       "      <td>-0.010004</td>\n",
       "      <td>-0.003239</td>\n",
       "      <td>0.014308</td>\n",
       "      <td>-0.050601</td>\n",
       "      <td>-0.024100</td>\n",
       "      <td>-0.023046</td>\n",
       "      <td>-0.017151</td>\n",
       "      <td>0.017009</td>\n",
       "      <td>0.010729</td>\n",
       "      <td>0.004194</td>\n",
       "    </tr>\n",
       "  </tbody>\n",
       "</table>\n",
       "<p>5 rows × 309 columns</p>\n",
       "</div>"
      ],
      "text/plain": [
       "   helpful  num_sents  num_words  readability  neg_senti  pos_senti  \\\n",
       "0      0.0   0.693147   3.610918     6.742881      0.079      0.068   \n",
       "1      0.0   1.386294   3.555348     6.734948      0.000      0.448   \n",
       "2      0.0   1.609438   4.499810     6.743588      0.029      0.163   \n",
       "3      0.0   1.609438   4.143135     6.742527      0.034      0.273   \n",
       "4      0.0   1.609438   3.526361     6.737915      0.000      0.480   \n",
       "\n",
       "   neu_senti  comp_senti                                         text_lemma  \\\n",
       "0      0.853     -0.1027  product arrive label peanut actually small siz...   \n",
       "1      0.552      0.9468  great taffy great price wide assortment yummy ...   \n",
       "2      0.809      0.8830  get wild hair taffy order pound bag taffy enjo...   \n",
       "3      0.693      0.9346  saltwater taffy great flavor soft chewy candy ...   \n",
       "4      0.520      0.9487  taffy good soft chewy flavor amazing definitel...   \n",
       "\n",
       "       vec0    ...       vec290    vec291    vec292    vec293    vec294  \\\n",
       "0  0.033346    ...    -0.023125 -0.005069  0.007344 -0.045929 -0.017832   \n",
       "1  0.037825    ...    -0.015524  0.009058  0.020853 -0.058746 -0.001076   \n",
       "2  0.039023    ...    -0.011637  0.008717  0.007918 -0.046595 -0.012542   \n",
       "3  0.038912    ...    -0.010440  0.006156  0.007695 -0.039642 -0.012080   \n",
       "4  0.043776    ...    -0.010004 -0.003239  0.014308 -0.050601 -0.024100   \n",
       "\n",
       "     vec295    vec296    vec297    vec298    vec299  \n",
       "0 -0.018206 -0.017281  0.012410  0.020198 -0.002511  \n",
       "1 -0.013715 -0.035464  0.006317  0.023066  0.012566  \n",
       "2 -0.028316 -0.036677  0.015261  0.016227  0.008930  \n",
       "3 -0.026868 -0.018743  0.009134  0.021543  0.016047  \n",
       "4 -0.023046 -0.017151  0.017009  0.010729  0.004194  \n",
       "\n",
       "[5 rows x 309 columns]"
      ]
     },
     "execution_count": 5,
     "metadata": {},
     "output_type": "execute_result"
    }
   ],
   "source": [
    "clean_data.head()"
   ]
  },
  {
   "cell_type": "code",
   "execution_count": 6,
   "metadata": {
    "collapsed": true
   },
   "outputs": [],
   "source": [
    "kept_cols=['helpful']\n",
    "kept_cols.extend(clean_data.columns[9:])"
   ]
  },
  {
   "cell_type": "markdown",
   "metadata": {},
   "source": [
    "## Training and Testing Split"
   ]
  },
  {
   "cell_type": "code",
   "execution_count": 7,
   "metadata": {
    "collapsed": true
   },
   "outputs": [],
   "source": [
    "my_rand_state=0\n",
    "test_size=0.25"
   ]
  },
  {
   "cell_type": "code",
   "execution_count": 8,
   "metadata": {
    "collapsed": true
   },
   "outputs": [],
   "source": [
    "from sklearn.model_selection import train_test_split"
   ]
  },
  {
   "cell_type": "code",
   "execution_count": 9,
   "metadata": {
    "collapsed": true
   },
   "outputs": [],
   "source": [
    "X = (clean_data[kept_cols].iloc[:,1:]).as_matrix()\n",
    "y = (clean_data[kept_cols].iloc[:,0]).tolist()"
   ]
  },
  {
   "cell_type": "code",
   "execution_count": 10,
   "metadata": {
    "collapsed": true
   },
   "outputs": [],
   "source": [
    "X_train, X_test, y_train, y_test = train_test_split(X, y, test_size=test_size, \n",
    "                                              random_state=my_rand_state)"
   ]
  },
  {
   "cell_type": "markdown",
   "metadata": {},
   "source": [
    "## Setting Up Tensor Flow"
   ]
  },
  {
   "cell_type": "code",
   "execution_count": 11,
   "metadata": {
    "collapsed": true
   },
   "outputs": [],
   "source": [
    "feature_columns = [tf.contrib.layers.real_valued_column(\"\", dimension=len(X[0,:]))]"
   ]
  },
  {
   "cell_type": "code",
   "execution_count": 12,
   "metadata": {},
   "outputs": [
    {
     "name": "stdout",
     "output_type": "stream",
     "text": [
      "INFO:tensorflow:Using default config.\n",
      "INFO:tensorflow:Using config: {'_tf_config': gpu_options {\n",
      "  per_process_gpu_memory_fraction: 1.0\n",
      "}\n",
      ", '_task_type': None, '_num_worker_replicas': 0, '_tf_random_seed': None, '_is_chief': True, '_task_id': 0, '_master': '', '_keep_checkpoint_max': 5, '_cluster_spec': <tensorflow.python.training.server_lib.ClusterSpec object at 0x7fde66fe6ac8>, '_environment': 'local', '_save_checkpoints_steps': None, '_keep_checkpoint_every_n_hours': 10000, '_save_checkpoints_secs': 600, '_num_ps_replicas': 0, '_model_dir': './other_output/tf_model', '_save_summary_steps': 100, '_evaluation_master': '', '_session_config': None}\n"
     ]
    }
   ],
   "source": [
    "dnn_clf=tf.contrib.learn.DNNClassifier(feature_columns=feature_columns,\n",
    "                                       hidden_units=[200,100,50],\n",
    "                                       model_dir='./other_output/tf_model')"
   ]
  },
  {
   "cell_type": "code",
   "execution_count": 13,
   "metadata": {
    "collapsed": true
   },
   "outputs": [],
   "source": [
    "from sklearn.preprocessing import StandardScaler\n",
    "std_scale=StandardScaler()"
   ]
  },
  {
   "cell_type": "code",
   "execution_count": 16,
   "metadata": {
    "collapsed": true
   },
   "outputs": [],
   "source": [
    "class PassData(object):\n",
    "    '''\n",
    "    Callable object that can be initialized and \n",
    "    used to pass data to tensorflow\n",
    "    '''\n",
    "    \n",
    "    def __init__(self,X,y):\n",
    "        self.X=X\n",
    "        self.y=y\n",
    "            \n",
    "    def scale(self):\n",
    "        self.X = std_scale.fit_transform(self.X, self.y)       \n",
    "    \n",
    "    def __call__(self):\n",
    "        return tf.constant(X), tf.constant(y)"
   ]
  },
  {
   "cell_type": "code",
   "execution_count": 17,
   "metadata": {
    "collapsed": true
   },
   "outputs": [],
   "source": [
    "train_data=PassData(X,y)"
   ]
  },
  {
   "cell_type": "code",
   "execution_count": null,
   "metadata": {
    "collapsed": true
   },
   "outputs": [],
   "source": [
    "train_data.scale()"
   ]
  },
  {
   "cell_type": "code",
   "execution_count": null,
   "metadata": {},
   "outputs": [
    {
     "name": "stdout",
     "output_type": "stream",
     "text": [
      "WARNING:tensorflow:From /home/jim/anaconda2/envs/py35/lib/python3.5/site-packages/tensorflow/contrib/learn/python/learn/estimators/head.py:615: scalar_summary (from tensorflow.python.ops.logging_ops) is deprecated and will be removed after 2016-11-30.\n",
      "Instructions for updating:\n",
      "Please switch to tf.summary.scalar. Note that tf.summary.scalar uses the node name instead of the tag. This means that TensorFlow will automatically de-duplicate summary names based on the scope they are created in. Also, passing a tensor or list of tags to a scalar summary op is no longer supported.\n",
      "INFO:tensorflow:Create CheckpointSaverHook.\n"
     ]
    }
   ],
   "source": [
    "dnn_clf.fit(input_fn=train_data,steps=1000)"
   ]
  },
  {
   "cell_type": "markdown",
   "metadata": {},
   "source": [
    "## Testing Estimators"
   ]
  },
  {
   "cell_type": "code",
   "execution_count": null,
   "metadata": {
    "collapsed": true
   },
   "outputs": [],
   "source": [
    "from sklearn.metrics import roc_curve, auc"
   ]
  },
  {
   "cell_type": "code",
   "execution_count": null,
   "metadata": {
    "collapsed": true
   },
   "outputs": [],
   "source": [
    "nb_fpr, nb_tpr, _ = roc_curve(y_test, \n",
    "                    nb_clf_est_b.predict_proba(X_test)[:,1])\n",
    "nb_roc_auc = auc(nb_fpr, nb_tpr)\n",
    "\n",
    "qda_fpr, qda_tpr, _ = roc_curve(y_test, \n",
    "                    qda_clf_est_b.predict_proba(X_test)[:,1])\n",
    "qda_roc_auc = auc(qda_fpr, qda_tpr)\n",
    "\n",
    "log_fpr, log_tpr, _ = roc_curve(y_test, \n",
    "                    log_clf_est_b.predict_proba(X_test)[:,1])\n",
    "log_roc_auc = auc(log_fpr, log_tpr)\n",
    "\n",
    "rf_fpr, rf_tpr, _ = roc_curve(y_test, \n",
    "                    rf_clf_est_b.predict_proba(X_test)[:,1])\n",
    "rf_roc_auc = auc(rf_fpr, rf_tpr)"
   ]
  },
  {
   "cell_type": "code",
   "execution_count": null,
   "metadata": {
    "collapsed": true
   },
   "outputs": [],
   "source": [
    "plt.plot(nb_fpr, nb_tpr, color='cyan', linestyle='--',\n",
    "         label='NB (area = %0.2f)' % nb_roc_auc, lw=2)\n",
    "\n",
    "plt.plot(qda_fpr, qda_tpr, color='indigo', linestyle='--',\n",
    "         label='QDA (area = %0.2f)' % qda_roc_auc, lw=2)\n",
    "\n",
    "plt.plot(log_fpr, log_tpr, color='seagreen', linestyle='--',\n",
    "         label='LOG (area = %0.2f)' % log_roc_auc, lw=2)\n",
    "\n",
    "plt.plot(rf_fpr, rf_tpr, color='blue', linestyle='--',\n",
    "         label='RF (area = %0.2f)' % rf_roc_auc, lw=2)\n",
    "\n",
    "plt.plot([0, 1], [0, 1], linestyle='--', lw=2, color='k',\n",
    "         label='Luck')\n",
    "\n",
    "plt.xlim([-0.05, 1.05])\n",
    "plt.ylim([-0.05, 1.05])\n",
    "plt.xlabel('False Positive Rate')\n",
    "plt.ylabel('True Positive Rate')\n",
    "plt.title('ROC Curves of Basic Models Using BOW & Macro-Text Stats')\n",
    "plt.legend(loc=\"lower right\")\n",
    "plt.savefig('./plots/ROC_Basic_BOW_MERGED.png', bbox_inches='tight')\n",
    "plt.show()"
   ]
  }
 ],
 "metadata": {
  "kernelspec": {
   "display_name": "Python [conda env:py35]",
   "language": "python",
   "name": "conda-env-py35-py"
  },
  "language_info": {
   "codemirror_mode": {
    "name": "ipython",
    "version": 3
   },
   "file_extension": ".py",
   "mimetype": "text/x-python",
   "name": "python",
   "nbconvert_exporter": "python",
   "pygments_lexer": "ipython3",
   "version": "3.5.3"
  }
 },
 "nbformat": 4,
 "nbformat_minor": 2
}
